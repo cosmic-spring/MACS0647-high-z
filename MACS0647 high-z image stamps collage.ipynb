{
 "cells": [
  {
   "cell_type": "markdown",
   "id": "c3fbfd46",
   "metadata": {},
   "source": [
    "# Color image montage: MACS0647 high-z galaxies\n",
    "\n",
    "Keduse Worku et al."
   ]
  },
  {
   "cell_type": "markdown",
   "id": "ba825c5e",
   "metadata": {},
   "source": [
    "https://github.com/cosmic-spring/MACS0647-high-z"
   ]
  },
  {
   "cell_type": "markdown",
   "id": "087a88f6",
   "metadata": {},
   "source": [
    "## Imports"
   ]
  },
  {
   "cell_type": "code",
   "execution_count": 1,
   "id": "6dba58a6",
   "metadata": {},
   "outputs": [],
   "source": [
    "import numpy as np\n",
    "import string\n",
    "from glob import glob\n",
    "import os\n",
    "from os.path import join\n",
    "from os.path import expanduser\n",
    "home = expanduser(\"~\")"
   ]
  },
  {
   "cell_type": "code",
   "execution_count": 5,
   "id": "2b819480",
   "metadata": {},
   "outputs": [],
   "source": [
    "# color images\n",
    "import PIL\n",
    "from PIL import Image, ImageDraw, ImageFont\n",
    "PIL.Image.MAX_IMAGE_PIXELS = 933120000  # allow to load large images avoiding DecompressionBombError"
   ]
  },
  {
   "cell_type": "code",
   "execution_count": 2,
   "id": "f4199ad8",
   "metadata": {},
   "outputs": [],
   "source": [
    "import astropy\n",
    "from astropy.coordinates import SkyCoord"
   ]
  },
  {
   "cell_type": "markdown",
   "id": "3d3d84c4-05f3-4c08-80d2-b35bbcc49813",
   "metadata": {},
   "source": [
    "# Load color image"
   ]
  },
  {
   "cell_type": "code",
   "execution_count": 30,
   "id": "f84cbdca",
   "metadata": {},
   "outputs": [
    {
     "data": {
      "text/plain": [
       "('../v7/color/macs0647_color.png', (20480, 28672, 3))"
      ]
     },
     "execution_count": 30,
     "metadata": {},
     "output_type": "execute_result"
    }
   ],
   "source": [
    "# Color image takes a few seconds to load\n",
    "field = 'macs0647'\n",
    "color_image_file = '../v7/color/%s_color.png' % field  # full color image\n",
    "im = Image.open(color_image_file)\n",
    "#im = im.transpose(method=Image.FLIP_TOP_BOTTOM)\n",
    "nx, ny = im.size\n",
    "im.size"
   ]
  },
  {
   "cell_type": "code",
   "execution_count": 40,
   "id": "c1344d7f-225a-4817-acc6-5fde828abb3d",
   "metadata": {},
   "outputs": [],
   "source": [
    "# convert to numpy array\n",
    "#color_image = np.asarray(im)\n",
    "#color_image = color_image[::-1]  # flip top-bottom\n",
    "#color_image_file, color_image.shape"
   ]
  },
  {
   "cell_type": "markdown",
   "id": "1b44ff3d",
   "metadata": {},
   "source": [
    "# Load catalogs"
   ]
  },
  {
   "cell_type": "code",
   "execution_count": 76,
   "id": "28ee23f1",
   "metadata": {},
   "outputs": [
    {
     "name": "stdout",
     "output_type": "stream",
     "text": [
      "Loading macs0647_phot-eazy.ecsv\n"
     ]
    },
    {
     "data": {
      "text/html": [
       "<div><i>Table length=2</i>\n",
       "<table id=\"table6297514128\" class=\"table-striped table-bordered table-condensed\">\n",
       "<thead><tr><th>id</th><th>ra</th><th>dec</th><th>x</th><th>y</th><th>z_spec</th><th>f105w_flux</th><th>f105w_fluxerr</th><th>f110w_flux</th><th>f110w_fluxerr</th><th>f115w_flux</th><th>f115w_fluxerr</th><th>f125w_flux</th><th>f125w_fluxerr</th><th>f140w_flux</th><th>f140w_fluxerr</th><th>f150w_flux</th><th>f150w_fluxerr</th><th>f160w_flux</th><th>f160w_fluxerr</th><th>f200w_flux</th><th>f200w_fluxerr</th><th>f275wu_flux</th><th>f275wu_fluxerr</th><th>f277w_flux</th><th>f277w_fluxerr</th><th>f336wu_flux</th><th>f336wu_fluxerr</th><th>f356w_flux</th><th>f356w_fluxerr</th><th>f390wu_flux</th><th>f390wu_fluxerr</th><th>f435w_flux</th><th>f435w_fluxerr</th><th>f444w_flux</th><th>f444w_fluxerr</th><th>f475w_flux</th><th>f475w_fluxerr</th><th>f555w_flux</th><th>f555w_fluxerr</th><th>f606w_flux</th><th>f606w_fluxerr</th><th>f625w_flux</th><th>f625w_fluxerr</th><th>f775w_flux</th><th>f775w_fluxerr</th><th>f814w_flux</th><th>f814w_fluxerr</th><th>f850lp_flux</th><th>f850lp_fluxerr</th><th>nusefilt</th><th>z_ml</th><th>z_ml_chi2</th><th>z_ml_risk</th><th>lc_min</th><th>lc_max</th><th>z_phot</th><th>z_phot_chi2</th><th>z_phot_risk</th><th>z_min_risk</th><th>min_risk</th><th>z_raw_chi2</th><th>raw_chi2</th><th>z025</th><th>z160</th><th>z500</th><th>z840</th><th>z975</th><th>restU</th><th>restU_err</th><th>restB</th><th>restB_err</th><th>restV</th><th>restV_err</th><th>restJ</th><th>restJ_err</th><th>dL</th><th>mass</th><th>sfr</th><th>Lv</th><th>LIR</th><th>energy_abs</th><th>Lu</th><th>Lj</th><th>L1400</th><th>L2800</th><th>LHa</th><th>LOIII</th><th>LHb</th><th>LOII</th><th>MLv</th><th>Av</th><th>lwAgeV</th><th>mass_p</th><th>sfr_p</th><th>Lv_p</th><th>LIR_p</th><th>energy_abs_p</th><th>Lu_p</th><th>Lj_p</th><th>L1400_p</th><th>L2800_p</th><th>LHa_p</th><th>LOIII_p</th><th>LHb_p</th><th>LOII_p</th><th>Av_p</th><th>ssfr_p</th><th>rest120</th><th>rest120_err</th><th>rest121</th><th>rest121_err</th><th>rest156</th><th>rest156_err</th><th>rest157</th><th>rest157_err</th><th>rest158</th><th>rest158_err</th><th>rest159</th><th>rest159_err</th><th>rest160</th><th>rest160_err</th><th>rest414</th><th>rest414_err</th><th>rest415</th><th>rest415_err</th><th>rest416</th><th>rest416_err</th></tr></thead>\n",
       "<thead><tr><th></th><th></th><th></th><th></th><th></th><th></th><th></th><th></th><th></th><th></th><th></th><th></th><th></th><th></th><th></th><th></th><th></th><th></th><th></th><th></th><th></th><th></th><th></th><th></th><th></th><th></th><th></th><th></th><th></th><th></th><th></th><th></th><th></th><th></th><th></th><th></th><th></th><th></th><th></th><th></th><th></th><th></th><th></th><th></th><th></th><th></th><th></th><th></th><th></th><th></th><th></th><th></th><th></th><th></th><th></th><th></th><th></th><th></th><th></th><th></th><th></th><th></th><th></th><th></th><th></th><th></th><th></th><th></th><th></th><th></th><th></th><th></th><th></th><th></th><th></th><th></th><th>Mpc</th><th>solMass</th><th>solMass / yr</th><th>solLum</th><th>solLum</th><th>solLum</th><th>solLum</th><th>solLum</th><th>solLum</th><th>solLum</th><th>solLum</th><th>solLum</th><th>solLum</th><th>solLum</th><th>solMass / solLum</th><th></th><th>Gyr</th><th></th><th></th><th></th><th></th><th></th><th></th><th></th><th></th><th></th><th></th><th></th><th></th><th></th><th></th><th></th><th></th><th></th><th></th><th></th><th></th><th></th><th></th><th></th><th></th><th></th><th></th><th></th><th></th><th></th><th></th><th></th><th></th><th></th><th></th><th></th></tr></thead>\n",
       "<thead><tr><th>int32</th><th>float64</th><th>float64</th><th>float64</th><th>float64</th><th>float64</th><th>float32</th><th>float32</th><th>float32</th><th>float32</th><th>float32</th><th>float32</th><th>float32</th><th>float32</th><th>float32</th><th>float32</th><th>float32</th><th>float32</th><th>float32</th><th>float32</th><th>float32</th><th>float32</th><th>float32</th><th>float32</th><th>float32</th><th>float32</th><th>float32</th><th>float32</th><th>float32</th><th>float32</th><th>float32</th><th>float32</th><th>float32</th><th>float32</th><th>float32</th><th>float32</th><th>float32</th><th>float32</th><th>float32</th><th>float32</th><th>float32</th><th>float32</th><th>float32</th><th>float32</th><th>float32</th><th>float32</th><th>float32</th><th>float32</th><th>float32</th><th>float32</th><th>int64</th><th>float32</th><th>float32</th><th>float32</th><th>float64</th><th>float64</th><th>float32</th><th>float32</th><th>float32</th><th>float32</th><th>float32</th><th>float32</th><th>float32</th><th>float32</th><th>float32</th><th>float32</th><th>float32</th><th>float32</th><th>float32</th><th>float32</th><th>float32</th><th>float32</th><th>float32</th><th>float32</th><th>float32</th><th>float32</th><th>float64</th><th>float64</th><th>float64</th><th>float64</th><th>float64</th><th>float64</th><th>float64</th><th>float64</th><th>float64</th><th>float64</th><th>float64</th><th>float64</th><th>float64</th><th>float64</th><th>float64</th><th>float64</th><th>float64</th><th>float64[5]</th><th>float64[5]</th><th>float64[5]</th><th>float64[5]</th><th>float64[5]</th><th>float64[5]</th><th>float64[5]</th><th>float64[5]</th><th>float64[5]</th><th>float64[5]</th><th>float64[5]</th><th>float64[5]</th><th>float64[5]</th><th>float64[5]</th><th>float64[5]</th><th>float32</th><th>float32</th><th>float32</th><th>float32</th><th>float32</th><th>float32</th><th>float32</th><th>float32</th><th>float32</th><th>float32</th><th>float32</th><th>float32</th><th>float32</th><th>float32</th><th>float32</th><th>float32</th><th>float32</th><th>float32</th><th>float32</th><th>float32</th></tr></thead>\n",
       "<tr><td>1</td><td>102.015220</td><td>70.161446</td><td>4098.274752800464</td><td>1.999824071826548</td><td>-1.0</td><td>-99.000</td><td>-99.000</td><td>-99.000</td><td>-99.000</td><td>-99.000</td><td>-99.000</td><td>-99.000</td><td>-99.000</td><td>-99.000</td><td>-99.000</td><td>-99.000</td><td>-99.000</td><td>-99.000</td><td>-99.000</td><td>-99.000</td><td>-99.000</td><td>-99.000</td><td>-99.000</td><td>-99.000</td><td>-99.000</td><td>-99.000</td><td>-99.000</td><td>-99.000</td><td>-99.000</td><td>-99.000</td><td>-99.000</td><td>-99.000</td><td>-99.000</td><td>-99.000</td><td>-99.000</td><td>-99.000</td><td>-99.000</td><td>-99.000</td><td>-99.000</td><td>-99.000</td><td>-99.000</td><td>-99.000</td><td>-99.000</td><td>-99.000</td><td>-99.000</td><td>-99.000</td><td>-99.000</td><td>-99.000</td><td>-99.000</td><td>0</td><td>-1.0</td><td>-1.0</td><td>-1.0</td><td>27082581599519.1</td><td>0.0</td><td>-1.0</td><td>-1.0</td><td>-1.0</td><td>0.01</td><td>0.0</td><td>0.01</td><td>0.0000</td><td>0.0000</td><td>0.0000</td><td>0.0000</td><td>0.0000</td><td>0.0000</td><td>-99.000</td><td>0.000</td><td>-99.000</td><td>0.000</td><td>-99.000</td><td>0.000</td><td>-99.000</td><td>0.000</td><td>0.0e+00</td><td>-9.00e+29</td><td>-900000000000000046043660025856.000</td><td>-9.00e+29</td><td>-9.00e+29</td><td>-9.00e+29</td><td>-9.00e+29</td><td>-9.00e+29</td><td>-9.00e+29</td><td>-9.00e+29</td><td>-9.00e+29</td><td>-9.00e+29</td><td>-9.00e+29</td><td>-9.00e+29</td><td>-900000000000000046043660025856.00</td><td>-900000000000000046043660025856.00</td><td>-900000000000000046043660025856.00</td><td>-9.00e+29 ..  -9.00e+29</td><td>-900000000000000046043660025856.000 .. -900000000000000046043660025856.000</td><td>-9.00e+29 ..  -9.00e+29</td><td>-9.00e+29 ..  -9.00e+29</td><td>-9.00e+29 ..  -9.00e+29</td><td>-9.00e+29 ..  -9.00e+29</td><td>-9.00e+29 ..  -9.00e+29</td><td>-9.00e+29 ..  -9.00e+29</td><td>-9.00e+29 ..  -9.00e+29</td><td>-9.00e+29 ..  -9.00e+29</td><td>-9.00e+29 ..  -9.00e+29</td><td>-9.00e+29 ..  -9.00e+29</td><td>-9.00e+29 ..  -9.00e+29</td><td>-900000000000000046043660025856.00 .. -900000000000000046043660025856.00</td><td>-9.00e+29 ..  -9.00e+29</td><td>-99.000</td><td>0.000</td><td>-99.000</td><td>0.000</td><td>-99.000</td><td>0.000</td><td>-99.000</td><td>0.000</td><td>-99.000</td><td>0.000</td><td>-99.000</td><td>0.000</td><td>-99.000</td><td>0.000</td><td>-99.000</td><td>0.000</td><td>-99.000</td><td>0.000</td><td>-99.000</td><td>0.000</td></tr>\n",
       "<tr><td>2</td><td>101.948789</td><td>70.161459</td><td>8156.305414383205</td><td>1.9979236794378306</td><td>-1.0</td><td>-99.000</td><td>-99.000</td><td>-99.000</td><td>-99.000</td><td>-99.000</td><td>-99.000</td><td>-99.000</td><td>-99.000</td><td>-99.000</td><td>-99.000</td><td>-99.000</td><td>-99.000</td><td>-99.000</td><td>-99.000</td><td>-99.000</td><td>-99.000</td><td>-99.000</td><td>-99.000</td><td>-99.000</td><td>-99.000</td><td>-99.000</td><td>-99.000</td><td>-99.000</td><td>-99.000</td><td>-99.000</td><td>-99.000</td><td>-99.000</td><td>-99.000</td><td>-99.000</td><td>-99.000</td><td>-99.000</td><td>-99.000</td><td>-99.000</td><td>-99.000</td><td>-99.000</td><td>-99.000</td><td>-99.000</td><td>-99.000</td><td>-99.000</td><td>-99.000</td><td>-99.000</td><td>-99.000</td><td>-99.000</td><td>-99.000</td><td>0</td><td>-1.0</td><td>-1.0</td><td>-1.0</td><td>27082581599519.1</td><td>0.0</td><td>-1.0</td><td>-1.0</td><td>-1.0</td><td>0.01</td><td>0.0</td><td>0.01</td><td>0.0000</td><td>0.0000</td><td>0.0000</td><td>0.0000</td><td>0.0000</td><td>0.0000</td><td>-99.000</td><td>0.000</td><td>-99.000</td><td>0.000</td><td>-99.000</td><td>0.000</td><td>-99.000</td><td>0.000</td><td>0.0e+00</td><td>-9.00e+29</td><td>-900000000000000046043660025856.000</td><td>-9.00e+29</td><td>-9.00e+29</td><td>-9.00e+29</td><td>-9.00e+29</td><td>-9.00e+29</td><td>-9.00e+29</td><td>-9.00e+29</td><td>-9.00e+29</td><td>-9.00e+29</td><td>-9.00e+29</td><td>-9.00e+29</td><td>-900000000000000046043660025856.00</td><td>-900000000000000046043660025856.00</td><td>-900000000000000046043660025856.00</td><td>-9.00e+29 ..  -9.00e+29</td><td>-900000000000000046043660025856.000 .. -900000000000000046043660025856.000</td><td>-9.00e+29 ..  -9.00e+29</td><td>-9.00e+29 ..  -9.00e+29</td><td>-9.00e+29 ..  -9.00e+29</td><td>-9.00e+29 ..  -9.00e+29</td><td>-9.00e+29 ..  -9.00e+29</td><td>-9.00e+29 ..  -9.00e+29</td><td>-9.00e+29 ..  -9.00e+29</td><td>-9.00e+29 ..  -9.00e+29</td><td>-9.00e+29 ..  -9.00e+29</td><td>-9.00e+29 ..  -9.00e+29</td><td>-9.00e+29 ..  -9.00e+29</td><td>-900000000000000046043660025856.00 .. -900000000000000046043660025856.00</td><td>-9.00e+29 ..  -9.00e+29</td><td>-99.000</td><td>0.000</td><td>-99.000</td><td>0.000</td><td>-99.000</td><td>0.000</td><td>-99.000</td><td>0.000</td><td>-99.000</td><td>0.000</td><td>-99.000</td><td>0.000</td><td>-99.000</td><td>0.000</td><td>-99.000</td><td>0.000</td><td>-99.000</td><td>0.000</td><td>-99.000</td><td>0.000</td></tr>\n",
       "</table></div>"
      ],
      "text/plain": [
       "<Table length=2>\n",
       "  id      ra        dec    ... rest415_err    rest416    rest416_err \n",
       "                           ...                                       \n",
       "int32  float64    float64  ...   float32      float32      float32   \n",
       "----- ---------- --------- ... ------------ ------------ ------------\n",
       "    1 102.015220 70.161446 ...        0.000      -99.000        0.000\n",
       "    2 101.948789 70.161459 ...        0.000      -99.000        0.000"
      ]
     },
     "execution_count": 76,
     "metadata": {},
     "output_type": "execute_result"
    }
   ],
   "source": [
    "outfile = field + '_phot-eazy.ecsv'\n",
    "indir = ''  # '../catalogs'\n",
    "outfile = os.path.join(indir, outfile)\n",
    "print('Loading', outfile)\n",
    "v4_catalog = astropy.io.ascii.read(outfile)\n",
    "v4_catalog[:2]  # show a few rows"
   ]
  },
  {
   "cell_type": "code",
   "execution_count": 15,
   "id": "70aaa6fa-74ec-46c1-b530-e1a8371e7be5",
   "metadata": {},
   "outputs": [
    {
     "name": "stdout",
     "output_type": "stream",
     "text": [
      "Loading ../v7/catalogs/macs0647_phot-eazy.ecsv\n"
     ]
    },
    {
     "data": {
      "text/html": [
       "<div><i>Table length=2</i>\n",
       "<table id=\"table4572140560\" class=\"table-striped table-bordered table-condensed\">\n",
       "<thead><tr><th>id</th><th>ra</th><th>dec</th><th>x</th><th>y</th><th>z_spec</th><th>f105w_flux</th><th>f105w_fluxerr</th><th>f110w_flux</th><th>f110w_fluxerr</th><th>f115w_flux</th><th>f115w_fluxerr</th><th>f125w_flux</th><th>f125w_fluxerr</th><th>f140w_flux</th><th>f140w_fluxerr</th><th>f150w_flux</th><th>f150w_fluxerr</th><th>f160w_flux</th><th>f160w_fluxerr</th><th>f200w_flux</th><th>f200w_fluxerr</th><th>f275wu_flux</th><th>f275wu_fluxerr</th><th>f277w_flux</th><th>f277w_fluxerr</th><th>f336wu_flux</th><th>f336wu_fluxerr</th><th>f350lpu_flux</th><th>f350lpu_fluxerr</th><th>f356w_flux</th><th>f356w_fluxerr</th><th>f390wu_flux</th><th>f390wu_fluxerr</th><th>f435w_flux</th><th>f435w_fluxerr</th><th>f444w_flux</th><th>f444w_fluxerr</th><th>f475w_flux</th><th>f475w_fluxerr</th><th>f480m_flux</th><th>f480m_fluxerr</th><th>f555w_flux</th><th>f555w_fluxerr</th><th>f606w_flux</th><th>f606w_fluxerr</th><th>f625w_flux</th><th>f625w_fluxerr</th><th>f775w_flux</th><th>f775w_fluxerr</th><th>f814w_flux</th><th>f814w_fluxerr</th><th>f850lp_flux</th><th>f850lp_fluxerr</th><th>nusefilt</th><th>z_ml</th><th>z_ml_chi2</th><th>z_ml_risk</th><th>lc_min</th><th>lc_max</th><th>z_phot</th><th>z_phot_chi2</th><th>z_phot_risk</th><th>z_min_risk</th><th>min_risk</th><th>z_raw_chi2</th><th>raw_chi2</th><th>z025</th><th>z160</th><th>z500</th><th>z840</th><th>z975</th><th>restU</th><th>restU_err</th><th>restB</th><th>restB_err</th><th>restV</th><th>restV_err</th><th>restJ</th><th>restJ_err</th><th>dL</th><th>mass</th><th>sfr</th><th>Lv</th><th>LIR</th><th>energy_abs</th><th>Lu</th><th>Lj</th><th>L1400</th><th>L2800</th><th>LHa</th><th>LOIII</th><th>LHb</th><th>LOII</th><th>MLv</th><th>Av</th><th>lwAgeV</th><th>mass_p</th><th>sfr_p</th><th>Lv_p</th><th>LIR_p</th><th>energy_abs_p</th><th>Lu_p</th><th>Lj_p</th><th>L1400_p</th><th>L2800_p</th><th>LHa_p</th><th>LOIII_p</th><th>LHb_p</th><th>LOII_p</th><th>Av_p</th><th>ssfr_p</th><th>rest120</th><th>rest120_err</th><th>rest121</th><th>rest121_err</th><th>rest156</th><th>rest156_err</th><th>rest157</th><th>rest157_err</th><th>rest158</th><th>rest158_err</th><th>rest159</th><th>rest159_err</th><th>rest160</th><th>rest160_err</th><th>rest414</th><th>rest414_err</th><th>rest415</th><th>rest415_err</th><th>rest416</th><th>rest416_err</th></tr></thead>\n",
       "<thead><tr><th></th><th></th><th></th><th></th><th></th><th></th><th></th><th></th><th></th><th></th><th></th><th></th><th></th><th></th><th></th><th></th><th></th><th></th><th></th><th></th><th></th><th></th><th></th><th></th><th></th><th></th><th></th><th></th><th></th><th></th><th></th><th></th><th></th><th></th><th></th><th></th><th></th><th></th><th></th><th></th><th></th><th></th><th></th><th></th><th></th><th></th><th></th><th></th><th></th><th></th><th></th><th></th><th></th><th></th><th></th><th></th><th></th><th></th><th></th><th></th><th></th><th></th><th></th><th></th><th></th><th></th><th></th><th></th><th></th><th></th><th></th><th></th><th></th><th></th><th></th><th></th><th></th><th></th><th></th><th></th><th>Mpc</th><th>solMass</th><th>solMass / yr</th><th>solLum</th><th>solLum</th><th>solLum</th><th>solLum</th><th>solLum</th><th>solLum</th><th>solLum</th><th>solLum</th><th>solLum</th><th>solLum</th><th>solLum</th><th>solMass / solLum</th><th></th><th>Gyr</th><th></th><th></th><th></th><th></th><th></th><th></th><th></th><th></th><th></th><th></th><th></th><th></th><th></th><th></th><th></th><th></th><th></th><th></th><th></th><th></th><th></th><th></th><th></th><th></th><th></th><th></th><th></th><th></th><th></th><th></th><th></th><th></th><th></th><th></th><th></th></tr></thead>\n",
       "<thead><tr><th>int32</th><th>float64</th><th>float64</th><th>float64</th><th>float64</th><th>float64</th><th>float32</th><th>float32</th><th>float32</th><th>float32</th><th>float32</th><th>float32</th><th>float32</th><th>float32</th><th>float32</th><th>float32</th><th>float32</th><th>float32</th><th>float32</th><th>float32</th><th>float32</th><th>float32</th><th>float32</th><th>float32</th><th>float32</th><th>float32</th><th>float32</th><th>float32</th><th>float32</th><th>float32</th><th>float32</th><th>float32</th><th>float32</th><th>float32</th><th>float32</th><th>float32</th><th>float32</th><th>float32</th><th>float32</th><th>float32</th><th>float32</th><th>float32</th><th>float32</th><th>float32</th><th>float32</th><th>float32</th><th>float32</th><th>float32</th><th>float32</th><th>float32</th><th>float32</th><th>float32</th><th>float32</th><th>float32</th><th>int64</th><th>float32</th><th>float32</th><th>float32</th><th>float64</th><th>float64</th><th>float32</th><th>float32</th><th>float32</th><th>float32</th><th>float32</th><th>float32</th><th>float32</th><th>float32</th><th>float32</th><th>float32</th><th>float32</th><th>float32</th><th>float32</th><th>float32</th><th>float32</th><th>float32</th><th>float32</th><th>float32</th><th>float32</th><th>float32</th><th>float64</th><th>float64</th><th>float64</th><th>float64</th><th>float64</th><th>float64</th><th>float64</th><th>float64</th><th>float64</th><th>float64</th><th>float64</th><th>float64</th><th>float64</th><th>float64</th><th>float64</th><th>float64</th><th>float64</th><th>float64[5]</th><th>float64[5]</th><th>float64[5]</th><th>float64[5]</th><th>float64[5]</th><th>float64[5]</th><th>float64[5]</th><th>float64[5]</th><th>float64[5]</th><th>float64[5]</th><th>float64[5]</th><th>float64[5]</th><th>float64[5]</th><th>float64[5]</th><th>float64[5]</th><th>float32</th><th>float32</th><th>float32</th><th>float32</th><th>float32</th><th>float32</th><th>float32</th><th>float32</th><th>float32</th><th>float32</th><th>float32</th><th>float32</th><th>float32</th><th>float32</th><th>float32</th><th>float32</th><th>float32</th><th>float32</th><th>float32</th><th>float32</th></tr></thead>\n",
       "<tr><td>1</td><td>102.168830</td><td>70.172701</td><td>866.1075251495347</td><td>1.9806854281628345</td><td>-1.0</td><td>-99.000</td><td>-99.000</td><td>-99.000</td><td>-99.000</td><td>-99.000</td><td>-99.000</td><td>-99.000</td><td>-99.000</td><td>-99.000</td><td>-99.000</td><td>-99.000</td><td>-99.000</td><td>-99.000</td><td>-99.000</td><td>-99.000</td><td>-99.000</td><td>-99.000</td><td>-99.000</td><td>-99.000</td><td>-99.000</td><td>-99.000</td><td>-99.000</td><td>-99.000</td><td>-99.000</td><td>-99.000</td><td>-99.000</td><td>-99.000</td><td>-99.000</td><td>-99.000</td><td>-99.000</td><td>-99.000</td><td>-99.000</td><td>-99.000</td><td>-99.000</td><td>-99.000</td><td>-99.000</td><td>-99.000</td><td>-99.000</td><td>-99.000</td><td>-99.000</td><td>-99.000</td><td>-99.000</td><td>-99.000</td><td>-99.000</td><td>-99.000</td><td>-99.000</td><td>-99.000</td><td>-99.000</td><td>0</td><td>-1.0</td><td>-1.0</td><td>-1.0</td><td>27082581599519.1</td><td>0.0</td><td>-1.0</td><td>-1.0</td><td>-1.0</td><td>0.01</td><td>0.0</td><td>0.01</td><td>0.0000</td><td>0.0000</td><td>0.0000</td><td>0.0000</td><td>0.0000</td><td>0.0000</td><td>0.000</td><td>0.000</td><td>0.000</td><td>0.000</td><td>0.000</td><td>0.000</td><td>0.000</td><td>0.000</td><td>0.0e+00</td><td>-9.00e+29</td><td>-900000000000000046043660025856.000</td><td>-9.00e+29</td><td>-9.00e+29</td><td>-9.00e+29</td><td>-9.00e+29</td><td>-9.00e+29</td><td>-9.00e+29</td><td>-9.00e+29</td><td>-9.00e+29</td><td>-9.00e+29</td><td>-9.00e+29</td><td>-9.00e+29</td><td>-900000000000000046043660025856.00</td><td>-900000000000000046043660025856.00</td><td>-900000000000000046043660025856.00</td><td>-9.00e+29 ..  -9.00e+29</td><td>-900000000000000046043660025856.000 .. -900000000000000046043660025856.000</td><td>-9.00e+29 ..  -9.00e+29</td><td>-9.00e+29 ..  -9.00e+29</td><td>-9.00e+29 ..  -9.00e+29</td><td>-9.00e+29 ..  -9.00e+29</td><td>-9.00e+29 ..  -9.00e+29</td><td>-9.00e+29 ..  -9.00e+29</td><td>-9.00e+29 ..  -9.00e+29</td><td>-9.00e+29 ..  -9.00e+29</td><td>-9.00e+29 ..  -9.00e+29</td><td>-9.00e+29 ..  -9.00e+29</td><td>-9.00e+29 ..  -9.00e+29</td><td>-900000000000000046043660025856.00 .. -900000000000000046043660025856.00</td><td>-9.00e+29 ..  -9.00e+29</td><td>0.000</td><td>0.000</td><td>0.000</td><td>0.000</td><td>0.000</td><td>0.000</td><td>0.000</td><td>0.000</td><td>0.000</td><td>0.000</td><td>0.000</td><td>0.000</td><td>0.000</td><td>0.000</td><td>0.000</td><td>0.000</td><td>0.000</td><td>0.000</td><td>0.000</td><td>0.000</td></tr>\n",
       "<tr><td>2</td><td>102.165147</td><td>70.172705</td><td>1090.950208677069</td><td>1.961471822559048</td><td>-1.0</td><td>-99.000</td><td>-99.000</td><td>-99.000</td><td>-99.000</td><td>-99.000</td><td>-99.000</td><td>-99.000</td><td>-99.000</td><td>-99.000</td><td>-99.000</td><td>-99.000</td><td>-99.000</td><td>-99.000</td><td>-99.000</td><td>-99.000</td><td>-99.000</td><td>-99.000</td><td>-99.000</td><td>-99.000</td><td>-99.000</td><td>-99.000</td><td>-99.000</td><td>-99.000</td><td>-99.000</td><td>-99.000</td><td>-99.000</td><td>-99.000</td><td>-99.000</td><td>-99.000</td><td>-99.000</td><td>-99.000</td><td>-99.000</td><td>-99.000</td><td>-99.000</td><td>-99.000</td><td>-99.000</td><td>-99.000</td><td>-99.000</td><td>-99.000</td><td>-99.000</td><td>-99.000</td><td>-99.000</td><td>-99.000</td><td>-99.000</td><td>-99.000</td><td>-99.000</td><td>-99.000</td><td>-99.000</td><td>0</td><td>-1.0</td><td>-1.0</td><td>-1.0</td><td>27082581599519.1</td><td>0.0</td><td>-1.0</td><td>-1.0</td><td>-1.0</td><td>0.01</td><td>0.0</td><td>0.01</td><td>0.0000</td><td>0.0000</td><td>0.0000</td><td>0.0000</td><td>0.0000</td><td>0.0000</td><td>0.000</td><td>0.000</td><td>0.000</td><td>0.000</td><td>0.000</td><td>0.000</td><td>0.000</td><td>0.000</td><td>0.0e+00</td><td>-9.00e+29</td><td>-900000000000000046043660025856.000</td><td>-9.00e+29</td><td>-9.00e+29</td><td>-9.00e+29</td><td>-9.00e+29</td><td>-9.00e+29</td><td>-9.00e+29</td><td>-9.00e+29</td><td>-9.00e+29</td><td>-9.00e+29</td><td>-9.00e+29</td><td>-9.00e+29</td><td>-900000000000000046043660025856.00</td><td>-900000000000000046043660025856.00</td><td>-900000000000000046043660025856.00</td><td>-9.00e+29 ..  -9.00e+29</td><td>-900000000000000046043660025856.000 .. -900000000000000046043660025856.000</td><td>-9.00e+29 ..  -9.00e+29</td><td>-9.00e+29 ..  -9.00e+29</td><td>-9.00e+29 ..  -9.00e+29</td><td>-9.00e+29 ..  -9.00e+29</td><td>-9.00e+29 ..  -9.00e+29</td><td>-9.00e+29 ..  -9.00e+29</td><td>-9.00e+29 ..  -9.00e+29</td><td>-9.00e+29 ..  -9.00e+29</td><td>-9.00e+29 ..  -9.00e+29</td><td>-9.00e+29 ..  -9.00e+29</td><td>-9.00e+29 ..  -9.00e+29</td><td>-900000000000000046043660025856.00 .. -900000000000000046043660025856.00</td><td>-9.00e+29 ..  -9.00e+29</td><td>0.000</td><td>0.000</td><td>0.000</td><td>0.000</td><td>0.000</td><td>0.000</td><td>0.000</td><td>0.000</td><td>0.000</td><td>0.000</td><td>0.000</td><td>0.000</td><td>0.000</td><td>0.000</td><td>0.000</td><td>0.000</td><td>0.000</td><td>0.000</td><td>0.000</td><td>0.000</td></tr>\n",
       "</table></div>"
      ],
      "text/plain": [
       "<Table length=2>\n",
       "  id      ra        dec            x         ...   rest415    rest415_err    rest416    rest416_err \n",
       "                                             ...                                                    \n",
       "int32  float64    float64       float64      ...   float32      float32      float32      float32   \n",
       "----- ---------- --------- ----------------- ... ------------ ------------ ------------ ------------\n",
       "    1 102.168830 70.172701 866.1075251495347 ...        0.000        0.000        0.000        0.000\n",
       "    2 102.165147 70.172705 1090.950208677069 ...        0.000        0.000        0.000        0.000"
      ]
     },
     "execution_count": 15,
     "metadata": {},
     "output_type": "execute_result"
    }
   ],
   "source": [
    "indir = '../v7/catalogs'\n",
    "outfile = os.path.join(indir, outfile)\n",
    "print('Loading', outfile)\n",
    "v7_catalog = astropy.io.ascii.read(outfile)\n",
    "v7_catalog[:2]"
   ]
  },
  {
   "cell_type": "code",
   "execution_count": 18,
   "id": "3bb06b89-8a57-4e85-a194-1c35f8d67740",
   "metadata": {},
   "outputs": [
    {
     "name": "stdout",
     "output_type": "stream",
     "text": [
      "Loading ../v7/catalogs/highzids_v4_new.txt\n"
     ]
    },
    {
     "data": {
      "text/plain": [
       "array([2876., 3035., 3090., 3138., 3186., 3208., 3308., 3493., 3504.,\n",
       "       3568., 3643., 4186., 4219., 4514., 4775., 4838., 4839., 4865.,\n",
       "       4893., 4914., 4915., 4920., 5010., 5094., 5156., 5332., 5352.,\n",
       "       5420., 1742., 1657., 1388.,  457.,  343.,  708.,   47., 1579.,\n",
       "       1663.,  643., 1240., 2173., 1881., 1557., 1674.,  884.,  747.,\n",
       "       2011., 2330., 1711., 1395.,  636., 1757.,  811., 1727.,  153.,\n",
       "        844.,  642., 1559.,  569.,  157., 1035.,  246., 2675.,  486.,\n",
       "        986., 2590., 1924.,  198., 2196., 1243., 1751., 2241.,  475.,\n",
       "       2562., 2244., 2127., 2642., 2251., 2390.,  753., 2341., 2095.,\n",
       "       2557., 2094., 2415., 2070., 2134., 1139.,  946., 2019., 1882.,\n",
       "        926.,  116., 1714., 2634.,  852., 1741., 2162.,  661., 1912.,\n",
       "       2421., 1378., 1944., 1673.])"
      ]
     },
     "execution_count": 18,
     "metadata": {},
     "output_type": "execute_result"
    }
   ],
   "source": [
    "indir = '../v7/catalogs'\n",
    "infile = 'highzids_v4_new.txt'\n",
    "infile = os.path.join(indir, infile)\n",
    "print('Loading', infile)\n",
    "highz_v4_ids = np.loadtxt(infile)\n",
    "highz_v4_ids"
   ]
  },
  {
   "cell_type": "code",
   "execution_count": 23,
   "id": "7aa5adf7-14c5-475d-bbbe-e5eaab8dcbd3",
   "metadata": {},
   "outputs": [],
   "source": [
    "v7_catalog_coordinates = SkyCoord(ra=v7_catalog['ra']*u.deg, dec=v7_catalog['dec']*u.deg)  # *u.deg"
   ]
  },
  {
   "cell_type": "code",
   "execution_count": 116,
   "id": "fc7d45a2-4f7c-4e00-b144-419bc13891c8",
   "metadata": {},
   "outputs": [],
   "source": [
    "v4_catalog_coordinates = SkyCoord(ra=v4_catalog['ra']*u.deg, dec=v4_catalog['dec']*u.deg)  # *u.deg"
   ]
  },
  {
   "cell_type": "markdown",
   "id": "4c49b209-21a9-4801-b834-2e7761001475",
   "metadata": {},
   "source": [
    "# Make an image stamp for one galaxy"
   ]
  },
  {
   "cell_type": "code",
   "execution_count": 83,
   "id": "6b5ccc8c-e2a5-46ff-b333-99aea187a0e2",
   "metadata": {},
   "outputs": [
    {
     "data": {
      "text/plain": [
       "(3090, 4268)"
      ]
     },
     "execution_count": 83,
     "metadata": {},
     "output_type": "execute_result"
    }
   ],
   "source": [
    "#for v4_id in highz_v4_ids:\n",
    "v4_id = highz_v4_ids[2]\n",
    "i_v4 = np.searchsorted(v4_catalog['id'], v4_id)\n",
    "RA  = v4_catalog['ra'][i_v4]\n",
    "Dec = v4_catalog['dec'][i_v4]\n",
    "object_coordinates = SkyCoord(ra=RA*u.deg, dec=Dec*u.deg)\n",
    "i_v7, match_distance_2d, match_distance_3d = object_coordinates.match_to_catalog_sky(v7_catalog_coordinates)\n",
    "v7_id = v7_catalog['id'][i_v7]\n",
    "match_distance_2d.to(u.arcsec)[0]  # good match?\n",
    "int(v4_id), v7_id"
   ]
  },
  {
   "cell_type": "markdown",
   "id": "57869122-2a4b-46dc-9f0b-31b3090b054e",
   "metadata": {},
   "source": [
    "https://relics.stsci.edu/data/macs0647/JWST/EAZY/eazy_3090.png  \n",
    "https://relics.stsci.edu/data/macs0647/JWST/v7/EAZY/eazy_4268.png"
   ]
  },
  {
   "cell_type": "code",
   "execution_count": 91,
   "id": "8379aaea-65cb-49c1-8ee4-b56b6af7de4c",
   "metadata": {},
   "outputs": [],
   "source": [
    "x = v7_catalog['x'][i_v7]\n",
    "y = v7_catalog['y'][i_v7]\n",
    "y = ny - y  # color image is flipped top to bottom"
   ]
  },
  {
   "cell_type": "markdown",
   "id": "47e2fdcf-324e-4771-b3e5-2a46eb0a845b",
   "metadata": {},
   "source": [
    "image stamps 200 pixels = 4\" on a side (0.02\" / pixel)"
   ]
  },
  {
   "cell_type": "code",
   "execution_count": 92,
   "id": "b3280ea5-2051-4aa5-b981-3da6a0c2e4b7",
   "metadata": {},
   "outputs": [],
   "source": [
    "dx = dy = 100\n",
    "im_stamp = im.crop((x-dx, y-dy, x+dx, y+dy))"
   ]
  },
  {
   "cell_type": "code",
   "execution_count": 93,
   "id": "3a7afc95-101b-4645-adc7-30b817e1816d",
   "metadata": {},
   "outputs": [],
   "source": [
    "#im_stamp.show()\n",
    "draw = ImageDraw.Draw(im_stamp) "
   ]
  },
  {
   "cell_type": "code",
   "execution_count": 94,
   "id": "4f73e98b-3711-45f0-9e22-b0a5e5a119ca",
   "metadata": {},
   "outputs": [],
   "source": [
    "#text  =   'id_v7 #%d' % v7_id\n",
    "#text += '\\nid_v4 #%d' % v4_id"
   ]
  },
  {
   "cell_type": "code",
   "execution_count": 95,
   "id": "8692cc4a-a2df-4a8d-8132-36580fc499f7",
   "metadata": {},
   "outputs": [
    {
     "data": {
      "text/plain": [
       "'#4268 v7, #3090 v4\\nz = 6.29 [6.17 - 6.51]'"
      ]
     },
     "execution_count": 95,
     "metadata": {},
     "output_type": "execute_result"
    }
   ],
   "source": [
    "text = '#%d v7, #%d v4' % (v7_id, v4_id)\n",
    "text += '\\n'\n",
    "text += 'z = %.2f' % v7_catalog['z_phot'][i_v7]\n",
    "text += ' [%.2f - %.2f]' % (v7_catalog['z025'][i_v7], v7_catalog['z975'][i_v7])\n",
    "text"
   ]
  },
  {
   "cell_type": "code",
   "execution_count": 96,
   "id": "c7c98757-a243-42e6-969d-3ef633ef9740",
   "metadata": {},
   "outputs": [],
   "source": [
    "text\n",
    "draw.text((5, 5), text)"
   ]
  },
  {
   "cell_type": "code",
   "execution_count": 97,
   "id": "f2b264e8-81a4-41f8-bd38-1ca5918fc48e",
   "metadata": {},
   "outputs": [],
   "source": [
    "im_stamp.show()"
   ]
  },
  {
   "cell_type": "code",
   "execution_count": 79,
   "id": "70dce97a-a293-4558-a806-abd7a85ddfc1",
   "metadata": {},
   "outputs": [
    {
     "data": {
      "text/plain": [
       "16.839136"
      ]
     },
     "execution_count": 79,
     "metadata": {},
     "output_type": "execute_result"
    }
   ],
   "source": [
    "v7_catalog['z_phot'][i_v7]\n",
    "v7_catalog['z025'][i_v7]\n",
    "v7_catalog['z975'][i_v7]"
   ]
  },
  {
   "cell_type": "markdown",
   "id": "399e65a5-3a52-4fd7-8fb2-87a7e65196d4",
   "metadata": {},
   "source": [
    "# Making a collage\n",
    "https://stackoverflow.com/questions/35438802/making-a-collage-in-pil"
   ]
  },
  {
   "cell_type": "code",
   "execution_count": 98,
   "id": "832279fa-4dbe-45d0-954d-fd6ad5371d9e",
   "metadata": {},
   "outputs": [
    {
     "data": {
      "text/plain": [
       "(103, 8, 13)"
      ]
     },
     "execution_count": 98,
     "metadata": {},
     "output_type": "execute_result"
    }
   ],
   "source": [
    "nobjects = len(highz_v4_ids)\n",
    "ncolumns = 8\n",
    "nrows = np.ceil(nobjects / ncolumns).astype(int)\n",
    "nobjects, ncolumns, nrows"
   ]
  },
  {
   "cell_type": "code",
   "execution_count": 99,
   "id": "3b141f47-91f1-412c-9bba-647267f13f18",
   "metadata": {},
   "outputs": [],
   "source": [
    "margin = 5\n",
    "width  = (2*dx + margin) * ncolumns - margin\n",
    "height = (2*dy + margin) * nrows    - margin"
   ]
  },
  {
   "cell_type": "code",
   "execution_count": 100,
   "id": "b903de62-a05b-4d24-bbeb-5b401f717ad5",
   "metadata": {},
   "outputs": [],
   "source": [
    "im_collage = Image.new('RGB', (width, height), 'white')\n",
    "for i in range(nobjects):\n",
    "    #for v4_id in highz_v4_ids:\n",
    "    v4_id = highz_v4_ids[i]\n",
    "    i_v4 = np.searchsorted(v4_catalog['id'], v4_id)\n",
    "    RA  = v4_catalog['ra'][i_v4]\n",
    "    Dec = v4_catalog['dec'][i_v4]\n",
    "    object_coordinates = SkyCoord(ra=RA*u.deg, dec=Dec*u.deg)\n",
    "    i_v7, match_distance_2d, match_distance_3d = object_coordinates.match_to_catalog_sky(v7_catalog_coordinates)\n",
    "    v7_id = v7_catalog['id'][i_v7]\n",
    "    d2d = match_distance_2d.to(u.arcsec)[0]  # good match?\n",
    "\n",
    "    x = v7_catalog['x'][i_v7]\n",
    "    y = v7_catalog['y'][i_v7]\n",
    "    y = ny - y  # color image is flipped top to bottom\n",
    "    im_stamp = im.crop((x-dx, y-dy, x+dx, y+dy))\n",
    "    draw = ImageDraw.Draw(im_stamp) \n",
    "    text = '#%d v7, #%d v4' % (v7_id, v4_id)\n",
    "    text += '\\n'\n",
    "    text += 'z = %.2f' % v7_catalog['z_phot'][i_v7]\n",
    "    text += ' [%.2f - %.2f]' % (v7_catalog['z025'][i_v7], v7_catalog['z975'][i_v7])\n",
    "    draw.text((5, 5), text)\n",
    "\n",
    "    iy = i // ncolumns\n",
    "    ix = i % ncolumns\n",
    "    ystamp = iy * (2*dy + margin)\n",
    "    xstamp = ix * (2*dx + margin)\n",
    "    im_collage.paste(im_stamp, (xstamp, ystamp))\n",
    "    \n",
    "    #print(i, iy, ix, v7_id, v4_id, d2d)\n",
    "\n",
    "im_collage.save('macs0647_high-z_collage.png')\n",
    "im_collage.show()"
   ]
  },
  {
   "cell_type": "markdown",
   "id": "8889cf48-baeb-4e9f-9e4c-01d8151f1358",
   "metadata": {},
   "source": [
    "# v7 collage"
   ]
  },
  {
   "cell_type": "code",
   "execution_count": 112,
   "id": "2e02a3e2-7798-4127-951f-221abbbc2c00",
   "metadata": {},
   "outputs": [
    {
     "name": "stdout",
     "output_type": "stream",
     "text": [
      "Loading ../v7/catalogs/highzids_v7_final.txt\n"
     ]
    },
    {
     "data": {
      "text/plain": [
       "array([ 173.,  274.,  587.,  792.,  904., 1021., 1107., 1133., 1175.,\n",
       "       1352., 1471., 1626., 1658., 1857., 2120., 2121., 2172., 2193.,\n",
       "       2426., 2510., 2551., 2619., 2846., 4010., 4213., 4268., 4336.,\n",
       "       4393., 4411., 4533., 4797., 4824., 4870., 4922., 5091., 5191.,\n",
       "       5591., 5881., 5931., 6339., 6736., 6839., 6871., 6901., 6941.,\n",
       "       6943., 6952., 7120., 7282., 7397., 7576., 7604., 7697.])"
      ]
     },
     "execution_count": 112,
     "metadata": {},
     "output_type": "execute_result"
    }
   ],
   "source": [
    "indir = '../v7/catalogs'\n",
    "infile = 'highzids_v7_final.txt'\n",
    "infile = os.path.join(indir, infile)\n",
    "print('Loading', infile)\n",
    "highz_v7_ids = np.loadtxt(infile)\n",
    "highz_v7_ids = np.sort(highz_v7_ids)\n",
    "highz_v7_ids"
   ]
  },
  {
   "cell_type": "code",
   "execution_count": 113,
   "id": "a4d5a8ce-8eda-4ca3-9229-9dfbd0efe805",
   "metadata": {},
   "outputs": [
    {
     "data": {
      "text/plain": [
       "(53, 7, 8)"
      ]
     },
     "execution_count": 113,
     "metadata": {},
     "output_type": "execute_result"
    }
   ],
   "source": [
    "nobjects = len(highz_v7_ids)\n",
    "ncolumns = 7\n",
    "nrows = np.ceil(nobjects / ncolumns).astype(int)\n",
    "\n",
    "margin = 5\n",
    "width  = (2*dx + margin) * ncolumns - margin\n",
    "height = (2*dy + margin) * nrows    - margin\n",
    "\n",
    "nobjects, ncolumns, nrows"
   ]
  },
  {
   "cell_type": "code",
   "execution_count": 117,
   "id": "596374b5-195f-4168-8c1c-ca9bce0e5c2f",
   "metadata": {},
   "outputs": [],
   "source": [
    "im_collage = Image.new('RGB', (width, height), 'white')\n",
    "for i in range(nobjects):\n",
    "    v7_id = highz_v7_ids[i]\n",
    "    i_v7 = np.searchsorted(v7_catalog['id'], v7_id)\n",
    "    RA  = v7_catalog['ra'][i_v7]\n",
    "    Dec = v7_catalog['dec'][i_v7]\n",
    "    object_coordinates = SkyCoord(ra=RA*u.deg, dec=Dec*u.deg)\n",
    "    i_v4, match_distance_2d, match_distance_3d = object_coordinates.match_to_catalog_sky(v4_catalog_coordinates)\n",
    "    v4_id = v4_catalog['id'][i_v4]\n",
    "    d2d = match_distance_2d.to(u.arcsec)[0]  # good match?\n",
    "    \n",
    "    x = v7_catalog['x'][i_v7]\n",
    "    y = v7_catalog['y'][i_v7]\n",
    "    y = ny - y  # color image is flipped top to bottom\n",
    "    im_stamp = im.crop((x-dx, y-dy, x+dx, y+dy))\n",
    "    draw = ImageDraw.Draw(im_stamp) \n",
    "    text = '#%d v7, #%d v4' % (v7_id, v4_id)\n",
    "    text += '\\n'\n",
    "    text += 'z = %.2f' % v7_catalog['z_phot'][i_v7]\n",
    "    text += ' [%.2f - %.2f]' % (v7_catalog['z025'][i_v7], v7_catalog['z975'][i_v7])\n",
    "    draw.text((5, 5), text)\n",
    "\n",
    "    iy = i // ncolumns\n",
    "    ix = i % ncolumns\n",
    "    ystamp = iy * (2*dy + margin)\n",
    "    xstamp = ix * (2*dx + margin)\n",
    "    im_collage.paste(im_stamp, (xstamp, ystamp))\n",
    "    \n",
    "    #print(i, iy, ix, v7_id, v4_id, d2d)\n",
    "\n",
    "im_collage.save('macs0647_high-z_collage.png')\n",
    "im_collage.show()"
   ]
  },
  {
   "cell_type": "code",
   "execution_count": null,
   "id": "eeda4677-10bc-4993-a81b-ad24d67ade1c",
   "metadata": {},
   "outputs": [],
   "source": []
  }
 ],
 "metadata": {
  "kernelspec": {
   "display_name": "Python 3 (ipykernel)",
   "language": "python",
   "name": "python3"
  },
  "language_info": {
   "codemirror_mode": {
    "name": "ipython",
    "version": 3
   },
   "file_extension": ".py",
   "mimetype": "text/x-python",
   "name": "python",
   "nbconvert_exporter": "python",
   "pygments_lexer": "ipython3",
   "version": "3.11.4"
  }
 },
 "nbformat": 4,
 "nbformat_minor": 5
}
